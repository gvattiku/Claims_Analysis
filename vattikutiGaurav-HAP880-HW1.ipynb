{
 "cells": [
  {
   "cell_type": "code",
   "execution_count": 1,
   "metadata": {},
   "outputs": [],
   "source": [
    "import pandas as pd\n",
    "import os\n",
    "from sklearn.linear_model import LogisticRegression\n",
    "from sklearn.model_selection import train_test_split\n",
    "from sklearn.metrics import auc\n",
    "from sklearn.metrics import roc_curve\n",
    "from matplotlib import pyplot as plt"
   ]
  },
  {
   "cell_type": "code",
   "execution_count": 2,
   "metadata": {},
   "outputs": [],
   "source": [
    "root = r'C:\\Users\\vatti\\OneDrive\\Documents\\Classes\\HAP 880\\Week_1'\n",
    "os.chdir(root)\n",
    "\n",
    "df = pd.read_csv('highUtilizationPredictionV2wco.csv')"
   ]
  },
  {
   "cell_type": "code",
   "execution_count": 3,
   "metadata": {},
   "outputs": [
    {
     "data": {
      "text/plain": [
       "False"
      ]
     },
     "execution_count": 3,
     "metadata": {},
     "output_type": "execute_result"
    }
   ],
   "source": [
    "df.isnull().values.any()"
   ]
  },
  {
   "cell_type": "code",
   "execution_count": 4,
   "metadata": {
    "scrolled": true
   },
   "outputs": [],
   "source": [
    "cols = df.columns.tolist()"
   ]
  },
  {
   "cell_type": "code",
   "execution_count": 5,
   "metadata": {
    "scrolled": true
   },
   "outputs": [],
   "source": [
    "x = pd.DataFrame(df[(df['race']=='B') & (df['age']== 70)])"
   ]
  },
  {
   "cell_type": "code",
   "execution_count": 6,
   "metadata": {},
   "outputs": [],
   "source": [
    "cols_remove = ['race', 'patient_id', 'HighUtilizationY2', 'claimCount']"
   ]
  },
  {
   "cell_type": "code",
   "execution_count": 7,
   "metadata": {
    "scrolled": true
   },
   "outputs": [],
   "source": [
    "X = df[list(set(cols).difference(set(cols_remove)))]"
   ]
  },
  {
   "cell_type": "code",
   "execution_count": 8,
   "metadata": {
    "scrolled": true
   },
   "outputs": [],
   "source": [
    "y = df['HighUtilizationY2']"
   ]
  },
  {
   "cell_type": "code",
   "execution_count": 9,
   "metadata": {},
   "outputs": [],
   "source": [
    "X_train, X_test, y_train, y_test = train_test_split (\n",
    "    X, y, test_size=0.33, random_state=42)"
   ]
  },
  {
   "cell_type": "code",
   "execution_count": 10,
   "metadata": {},
   "outputs": [
    {
     "name": "stderr",
     "output_type": "stream",
     "text": [
      "c:\\users\\vatti\\appdata\\local\\programs\\python\\python37\\lib\\site-packages\\sklearn\\linear_model\\_logistic.py:940: ConvergenceWarning: lbfgs failed to converge (status=1):\n",
      "STOP: TOTAL NO. of ITERATIONS REACHED LIMIT.\n",
      "\n",
      "Increase the number of iterations (max_iter) or scale the data as shown in:\n",
      "    https://scikit-learn.org/stable/modules/preprocessing.html\n",
      "Please also refer to the documentation for alternative solver options:\n",
      "    https://scikit-learn.org/stable/modules/linear_model.html#logistic-regression\n",
      "  extra_warning_msg=_LOGISTIC_SOLVER_CONVERGENCE_MSG)\n"
     ]
    },
    {
     "data": {
      "text/plain": [
       "array([[ 1.04211723e-02, -1.42050145e-01, -3.59670205e-02,\n",
       "         3.26483540e-01,  3.68823167e-03,  2.01022301e-01,\n",
       "        -6.16755541e-02,  3.62212349e-01,  2.08167964e-01,\n",
       "         3.87483459e-01,  6.52163999e-03, -1.75525943e-01,\n",
       "         7.73618242e-02,  6.25847420e-01,  2.76037696e-01,\n",
       "        -4.31417579e-04,  1.47055411e-02,  7.28450361e-02,\n",
       "         2.44370981e-01,  2.60226338e-02,  2.34283332e-01,\n",
       "         7.23328185e-02,  3.02973560e-01,  3.45317994e-01,\n",
       "         2.63763945e-01, -1.38983442e-01,  1.33664177e-02,\n",
       "         1.52639848e-02, -6.67931822e-03, -5.30582692e-04,\n",
       "         1.64459360e-02, -4.00636953e-02,  2.03567394e-02,\n",
       "         5.11444090e-01,  3.79126488e-01,  4.19341887e-03,\n",
       "        -1.62530487e-01,  1.02530660e-03, -1.78360937e-01,\n",
       "        -9.86854892e-02,  1.23250557e-02,  9.93717649e-03,\n",
       "         3.19025807e-02,  2.35326605e-01,  8.09149807e-01,\n",
       "        -2.91421612e-03,  4.69148917e-01,  3.40062756e-02,\n",
       "        -1.34232499e-03,  2.12859724e-03, -5.52584104e-02,\n",
       "        -1.14118989e-03,  5.21312104e-01,  4.55691771e-02,\n",
       "        -2.69796901e-02,  1.50098905e-01,  1.59010721e-01,\n",
       "        -1.17855847e-02,  1.91228797e-01,  1.87363137e-01,\n",
       "        -6.51893003e-05, -1.70944031e-01, -7.39209639e-04,\n",
       "         2.19970398e-01]])"
      ]
     },
     "execution_count": 10,
     "metadata": {},
     "output_type": "execute_result"
    }
   ],
   "source": [
    "lr = LogisticRegression()\n",
    "\n",
    "lr_train = lr.fit(X_train, y_train)\n",
    "lr_train.coef_"
   ]
  },
  {
   "cell_type": "code",
   "execution_count": 11,
   "metadata": {},
   "outputs": [
    {
     "name": "stderr",
     "output_type": "stream",
     "text": [
      "c:\\users\\vatti\\appdata\\local\\programs\\python\\python37\\lib\\site-packages\\sklearn\\linear_model\\_logistic.py:940: ConvergenceWarning: lbfgs failed to converge (status=1):\n",
      "STOP: TOTAL NO. of ITERATIONS REACHED LIMIT.\n",
      "\n",
      "Increase the number of iterations (max_iter) or scale the data as shown in:\n",
      "    https://scikit-learn.org/stable/modules/preprocessing.html\n",
      "Please also refer to the documentation for alternative solver options:\n",
      "    https://scikit-learn.org/stable/modules/linear_model.html#logistic-regression\n",
      "  extra_warning_msg=_LOGISTIC_SOLVER_CONVERGENCE_MSG)\n"
     ]
    },
    {
     "data": {
      "text/plain": [
       "array([[-1.29972690e-02, -2.16847769e-01,  5.92977358e-02,\n",
       "         3.70428073e-01, -1.53727057e-02,  2.84936738e-01,\n",
       "        -1.89331176e-04,  4.12698399e-01,  1.52691690e-01,\n",
       "         3.17190640e-01, -4.75228090e-02, -1.48527003e-01,\n",
       "         1.07920241e-01,  5.55722914e-01,  2.47389140e-01,\n",
       "         0.00000000e+00, -2.01138410e-02,  1.32068775e-01,\n",
       "         1.97271822e-01,  1.43347296e-02,  1.55653777e-01,\n",
       "         6.09617275e-02,  2.30742548e-01,  2.60125546e-01,\n",
       "         2.00596091e-01, -2.08804813e-01, -4.69864180e-02,\n",
       "         4.49525656e-02, -3.27532152e-02, -1.40404324e-03,\n",
       "         1.65897715e-02,  1.74981401e-01, -1.51185896e-02,\n",
       "         6.00345453e-01,  4.80058054e-01,  1.55796195e-02,\n",
       "        -1.49032058e-01,  1.53626709e-01, -4.28422781e-02,\n",
       "         4.04547204e-02,  3.25982148e-02,  9.02045743e-02,\n",
       "         7.96035281e-02,  3.07960194e-01,  7.57193788e-01,\n",
       "         0.00000000e+00,  4.50259024e-01,  2.18849438e-02,\n",
       "        -2.47064302e-02, -2.76921119e-02, -5.17537613e-02,\n",
       "        -8.87439509e-04,  3.93622803e-01,  1.37390940e-01,\n",
       "         3.81212950e-03,  2.42474897e-01, -1.48018588e-02,\n",
       "         8.02646194e-02,  1.91628297e-01,  1.91010683e-01,\n",
       "         0.00000000e+00, -2.77189440e-01,  5.09081452e-05,\n",
       "         2.16204737e-01]])"
      ]
     },
     "execution_count": 11,
     "metadata": {},
     "output_type": "execute_result"
    }
   ],
   "source": [
    "lr_test = lr.fit (X_test, y_test)\n",
    "lr_test.coef_"
   ]
  },
  {
   "cell_type": "code",
   "execution_count": 12,
   "metadata": {},
   "outputs": [
    {
     "data": {
      "text/plain": [
       "array([0.04485029, 0.02610687, 0.01870825, ..., 0.08377968, 0.26189275,\n",
       "       0.11167146])"
      ]
     },
     "execution_count": 12,
     "metadata": {},
     "output_type": "execute_result"
    }
   ],
   "source": [
    "prob_train = lr_train.predict_proba (X_train)[:, 1]\n",
    "prob_train"
   ]
  },
  {
   "cell_type": "code",
   "execution_count": 13,
   "metadata": {},
   "outputs": [
    {
     "data": {
      "text/plain": [
       "array([0.01210816, 0.03642419, 0.06286137, ..., 0.01098028, 0.02537956,\n",
       "       0.00898991])"
      ]
     },
     "execution_count": 13,
     "metadata": {},
     "output_type": "execute_result"
    }
   ],
   "source": [
    "prob_test = lr_test.predict_proba (X_test)[:, 1]\n",
    "prob_test"
   ]
  },
  {
   "cell_type": "code",
   "execution_count": 14,
   "metadata": {},
   "outputs": [],
   "source": [
    "fpr_train, tpr_train, thresholds_train = roc_curve(y_train, prob_train)"
   ]
  },
  {
   "cell_type": "code",
   "execution_count": 15,
   "metadata": {},
   "outputs": [
    {
     "data": {
      "text/plain": [
       "array([1.90118124, 0.90118124, 0.83039596, ..., 0.00258711, 0.00258332,\n",
       "       0.00198515])"
      ]
     },
     "execution_count": 15,
     "metadata": {},
     "output_type": "execute_result"
    }
   ],
   "source": [
    "thresholds_train"
   ]
  },
  {
   "cell_type": "code",
   "execution_count": 16,
   "metadata": {},
   "outputs": [
    {
     "data": {
      "text/plain": [
       "0.8145161476263596"
      ]
     },
     "execution_count": 16,
     "metadata": {},
     "output_type": "execute_result"
    }
   ],
   "source": [
    "auc_train = auc(fpr_train, tpr_train)\n",
    "auc_train"
   ]
  },
  {
   "cell_type": "code",
   "execution_count": 17,
   "metadata": {},
   "outputs": [],
   "source": [
    "fpr_test, tpr_test, thresholds_test = roc_curve(y_test, prob_test)"
   ]
  },
  {
   "cell_type": "code",
   "execution_count": 18,
   "metadata": {},
   "outputs": [
    {
     "data": {
      "text/plain": [
       "array([1.85350714e+00, 8.53507143e-01, 8.32068688e-01, ...,\n",
       "       3.00746214e-03, 2.96265547e-03, 1.72178023e-03])"
      ]
     },
     "execution_count": 18,
     "metadata": {},
     "output_type": "execute_result"
    }
   ],
   "source": [
    "thresholds_test"
   ]
  },
  {
   "cell_type": "code",
   "execution_count": 19,
   "metadata": {},
   "outputs": [
    {
     "data": {
      "text/plain": [
       "0.8072731621470453"
      ]
     },
     "execution_count": 19,
     "metadata": {},
     "output_type": "execute_result"
    }
   ],
   "source": [
    "auc_test = auc(fpr_test, tpr_test)\n",
    "auc_test"
   ]
  },
  {
   "cell_type": "code",
   "execution_count": 20,
   "metadata": {},
   "outputs": [
    {
     "data": {
      "image/png": "[encoded data removed]",
      "text/plain": [
       "<Figure size 432x288 with 1 Axes>"
      ]
     },
     "metadata": {
      "needs_background": "light"
     },
     "output_type": "display_data"
    }
   ],
   "source": [
    "plt.plot(fpr_train, tpr_train, label=\"Train_Data, AUC=\"+str(auc_train), color = 'c')\n",
    "\n",
    "plt.plot(fpr_test, tpr_test, label=\"Test_Data, AUC=\"+str(auc_test), color = 'm')\n",
    "\n",
    "plt.show()"
   ]
  }
 ],
 "metadata": {
  "kernelspec": {
   "display_name": "Python 3",
   "language": "python",
   "name": "python3"
  },
  "language_info": {
   "codemirror_mode": {
    "name": "ipython",
    "version": 3
   },
   "file_extension": ".py",
   "mimetype": "text/x-python",
   "name": "python",
   "nbconvert_exporter": "python",
   "pygments_lexer": "ipython3",
   "version": "3.7.3"
  }
 },
 "nbformat": 4,
 "nbformat_minor": 2
}
